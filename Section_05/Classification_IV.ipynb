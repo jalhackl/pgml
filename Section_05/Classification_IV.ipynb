{
  "nbformat": 4,
  "nbformat_minor": 0,
  "metadata": {
    "colab": {
      "provenance": []
    },
    "kernelspec": {
      "name": "python3",
      "display_name": "Python 3"
    },
    "language_info": {
      "name": "python"
    }
  },
  "cells": [
    {
      "cell_type": "markdown",
      "source": [
        "# Section 05: Classification IV\n",
        "\n",
        "<a rel=\"license\" href=\"https://creativecommons.org/licenses/by-nc-sa/4.0/legalcode.txt\"><img alt=\"Attribution-NonCommercial-ShareAlike 4.0 International\" src=\"https://mirrors.creativecommons.org/presskit/buttons/88x31/svg/by-nc-sa.eu.svg\" title=\"This work is licensed under a Creative Commons Attribution-NonCommercial-ShareAlike 4.0 International Public License\"/></a>"
      ],
      "metadata": {
        "id": "zgFLM7jqMvzM"
      }
    },
    {
      "cell_type": "markdown",
      "source": [
        "End-to-end"
      ],
      "metadata": {
        "id": "02Qyp0ovl-Xv"
      }
    }
  ]
}